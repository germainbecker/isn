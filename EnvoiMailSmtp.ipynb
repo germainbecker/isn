{
 "cells": [
  {
   "cell_type": "markdown",
   "metadata": {},
   "source": [
    "# Envoi d'un email via smtp en Python\n",
    "\n",
    "## Envoi d'un email simple\n",
    "\n",
    "Voici comment envoyer un e-mail simple via le protocole SMTP en Python. On utilise les bibliothèques `smtplib` et `email.mime.text`. Le code proposé nécessite une adresse gmail et il faut « Autoriser les applications moins sécurisées » dans la paramétrage de votre compte google. Sinon ce dernier bloque l’envoi.\n",
    "\n",
    "Il doit être possible assez facilement d'adapter cela à d'autres types d'adresses e-mail."
   ]
  },
  {
   "cell_type": "code",
   "execution_count": null,
   "metadata": {},
   "outputs": [],
   "source": [
    "import smtplib\n",
    "from email.mime.text import MIMEText\n",
    "\n",
    "message = MIMEText('Ceci est un test !')  # message à écrire ici\n",
    "message['Subject'] = 'Objet du message'   # objet du mail\n",
    "\n",
    "message['From'] = 'fromxxx@gmail.com'     # remplacer par son adresse gmail\n",
    "message['To'] = 'toyyy@domaine.com'       # remplacer par l'adresse du destinataire\n",
    "\n",
    "server = smtplib.SMTP('smtp.gmail.com:587')  # connexion au serveur sortant (nom et numéro de port)\n",
    "server.starttls()   # spécification de la sécurisation TLS\n",
    "server.login('fromxxx@gmail.com','motdepasse')  # connexion à notre compte gmail (adresse et mot de passe)\n",
    "server.send_message(message)   # envoi du mail\n",
    "server.quit()   # déconnexion du serveur"
   ]
  },
  {
   "cell_type": "markdown",
   "metadata": {},
   "source": [
    "## Envoi à plusieurs destinataires\n",
    "\n",
    "Il suffit de séparer les adresses des destinataires par une virgule dans la chaîne `message['To']` comme ci-dessous."
   ]
  },
  {
   "cell_type": "code",
   "execution_count": null,
   "metadata": {
    "scrolled": true
   },
   "outputs": [],
   "source": [
    "import smtplib\n",
    "from email.mime.text import MIMEText\n",
    "\n",
    "message = MIMEText('Ceci est un test !')\n",
    "message['Subject'] = 'Objet du message'\n",
    "\n",
    "message['From'] = 'fromxxx@gmail.com'\n",
    "message['To'] = 'toyyy@domaine.com, tozzz@domaine.com, tovvv@domaine.com'  # chaîne avec les différentes adresses séparées par des virgules\n",
    "\n",
    "server = smtplib.SMTP('smtp.gmail.com:587')\n",
    "server.starttls()\n",
    "server.login('fromxxx@gmail.com','motdepasse'\n",
    "server.send_message(message)\n",
    "server.quit()"
   ]
  },
  {
   "cell_type": "markdown",
   "metadata": {},
   "source": [
    "## Envoi avec destinataire en copie et avec pièce jointe\n",
    "\n",
    "Je n'ai pas testé, mais vous pouvez consulter pour cela la page suivante : [ici](https://latutotheque.fr/charlometre/tutoriels/informatique/comment-envoyer-un-email-avec-python)."
   ]
  },
  {
   "cell_type": "markdown",
   "metadata": {},
   "source": [
    "---\n",
    "**Références :**\n",
    "- http://raspblog.fr/envoyer-mail-via-smtp"
   ]
  },
  {
   "cell_type": "markdown",
   "metadata": {},
   "source": [
    "---\n",
    "Germain BECKER, Lycée Mounier, ANGERS ![Licence Creative Commons](https://i.creativecommons.org/l/by-nc-sa/4.0/88x31.png)"
   ]
  }
 ],
 "metadata": {
  "kernelspec": {
   "display_name": "Python 3",
   "language": "python",
   "name": "python3"
  },
  "language_info": {
   "codemirror_mode": {
    "name": "ipython",
    "version": 3
   },
   "file_extension": ".py",
   "mimetype": "text/x-python",
   "name": "python",
   "nbconvert_exporter": "python",
   "pygments_lexer": "ipython3",
   "version": "3.7.3"
  }
 },
 "nbformat": 4,
 "nbformat_minor": 2
}
